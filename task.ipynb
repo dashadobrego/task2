{
 "cells": [
  {
   "cell_type": "code",
   "execution_count": 95,
   "metadata": {},
   "outputs": [],
   "source": [
    "import pandas\n",
    "import json\n",
    "from nltk import ngrams\n",
    "from pandas import DataFrame"
   ]
  },
  {
   "cell_type": "code",
   "execution_count": 263,
   "metadata": {},
   "outputs": [],
   "source": [
    "# read Eminem lyrics\n",
    "file = 'Lyrics_Eminem3.json'\n",
    "with open(file) as train_file:\n",
    "    dict_train = json.load(train_file)"
   ]
  },
  {
   "cell_type": "code",
   "execution_count": 264,
   "metadata": {},
   "outputs": [],
   "source": [
    "# read lyrics of artists similar to Eminem\n",
    "file = 'Lyrics_KanyeWest.json'\n",
    "with open(file) as train_file:\n",
    "    kanye_dict = json.load(train_file)\n",
    "file = 'Lyrics_JAYZ.json'\n",
    "with open(file) as train_file:\n",
    "    jayz_dict = json.load(train_file)\n",
    "file = 'Lyrics_KendrickLamar.json'\n",
    "with open(file) as train_file:\n",
    "    lamar_dict = json.load(train_file)\n",
    "file = 'Lyrics_LilWayne.json'\n",
    "with open(file) as train_file:\n",
    "    lil_dict = json.load(train_file)\n",
    "file = 'Lyrics_2Pac.json'\n",
    "with open(file) as train_file:\n",
    "    pac_dict = json.load(train_file)\n",
    "file = 'Lyrics_WizKhalifa.json'\n",
    "with open(file) as train_file:\n",
    "    wiz_dict = json.load(train_file)\n",
    "file = 'Lyrics_TheNotoriousB.I.G..json'\n",
    "with open(file) as train_file:\n",
    "    big_dict = json.load(train_file)\n",
    "file = 'Lyrics_Dr.Dre.json'\n",
    "with open(file) as train_file:\n",
    "    dre_dict = json.load(train_file)\n",
    "file = 'Lyrics_50Cent.json'\n",
    "with open(file) as train_file:\n",
    "    cent_dict = json.load(train_file)\n",
    "file = 'Lyrics_SnoopDogg.json'\n",
    "with open(file) as train_file:\n",
    "    snoop_dict = json.load(train_file)\n",
    "file = 'Lyrics_Logic.json'\n",
    "with open(file) as train_file:\n",
    "    logic_dict = json.load(train_file)\n",
    "file = 'Lyrics_MachineGunKelly.json'\n",
    "with open(file) as train_file:\n",
    "    machine_dict = json.load(train_file)\n",
    "file = 'Lyrics_IceCube.json'\n",
    "with open(file) as train_file:\n",
    "    ice_dict = json.load(train_file)\n",
    "file = 'Lyrics_ChancetheRapper.json'\n",
    "with open(file) as train_file:\n",
    "    chance_dict = json.load(train_file)\n",
    "file = 'Lyrics_EazyE.json'\n",
    "with open(file) as train_file:\n",
    "    eazy_dict = json.load(train_file)\n",
    "file = 'Lyrics_OutKast.json'\n",
    "with open(file) as train_file:\n",
    "    out_dict = json.load(train_file)\n",
    "file = 'Lyrics_TechN9ne.json'\n",
    "with open(file) as train_file:\n",
    "    tech_dict = json.load(train_file)\n",
    "file = 'Lyrics_AAPRocky.json'\n",
    "with open(file) as train_file:\n",
    "    asap_dict = json.load(train_file)"
   ]
  },
  {
   "cell_type": "code",
   "execution_count": 265,
   "metadata": {},
   "outputs": [],
   "source": [
    "dict_songs = dict_train.get('songs')\n",
    "kanye_songs = kanye_dict.get('songs')\n",
    "jayz_songs = jayz_dict.get('songs')\n",
    "lamar_songs = lamar_dict.get('songs')\n",
    "pac_songs = pac_dict.get('songs')\n",
    "lil_songs = lil_dict.get('songs')\n",
    "wiz_songs = wiz_dict.get('songs')\n",
    "big_songs = big_dict.get('songs')\n",
    "dre_songs = dre_dict.get('songs')\n",
    "cent_songs = cent_dict.get('songs')\n",
    "snoop_songs = snoop_dict.get('songs')\n",
    "logic_songs = logic_dict.get('songs')\n",
    "machine_songs = machine_dict.get('songs')\n",
    "ice_songs = ice_dict.get('songs')\n",
    "chance_songs = chance_dict.get('songs')\n",
    "eazy_songs = eazy_dict.get('songs')\n",
    "out_songs = out_dict.get('songs')\n",
    "tech_songs = tech_dict.get('songs')\n",
    "asap_songs = asap_dict.get('songs')"
   ]
  },
  {
   "cell_type": "code",
   "execution_count": 266,
   "metadata": {},
   "outputs": [
    {
     "data": {
      "text/plain": [
       "300"
      ]
     },
     "execution_count": 266,
     "metadata": {},
     "output_type": "execute_result"
    }
   ],
   "source": [
    "# Eminems total number of lyrics\n",
    "total_lyrics = []\n",
    "for i in range(0,len(dict_songs)):\n",
    "    idict = dict_songs[i]\n",
    "    song_lyric = idict.get('lyrics')\n",
    "    total_lyrics.append(song_lyric)\n",
    "\n",
    "len(total_lyrics)"
   ]
  },
  {
   "cell_type": "code",
   "execution_count": 267,
   "metadata": {},
   "outputs": [
    {
     "data": {
      "text/plain": [
       "298"
      ]
     },
     "execution_count": 267,
     "metadata": {},
     "output_type": "execute_result"
    }
   ],
   "source": [
    "import pandas as pd\n",
    "df = pd.DataFrame(total_lyrics) \n",
    "df = df.rename(columns={0: \"lyrics\"})\n",
    "df = df[df['lyrics'].notna()]\n",
    "len(df) #number of lyrics without NA"
   ]
  },
  {
   "cell_type": "code",
   "execution_count": 268,
   "metadata": {},
   "outputs": [
    {
     "name": "stdout",
     "output_type": "stream",
     "text": [
      "3551\n"
     ]
    }
   ],
   "source": [
    "total_lyrics_others = []\n",
    "for i in range(0,len(kanye_songs)):\n",
    "    idict = kanye_songs[i]\n",
    "    song_lyric = idict.get('lyrics')\n",
    "    total_lyrics_others.append(song_lyric)\n",
    "for i in range(0,len(jayz_songs)):\n",
    "    idict = jayz_songs[i]\n",
    "    song_lyric = idict.get('lyrics')\n",
    "    total_lyrics_others.append(song_lyric)\n",
    "for i in range(0,len(lamar_songs)):\n",
    "    idict = lamar_songs[i]\n",
    "    song_lyric = idict.get('lyrics')\n",
    "    total_lyrics_others.append(song_lyric)\n",
    "for i in range(0,len(pac_songs)):\n",
    "    idict = pac_songs[i]\n",
    "    song_lyric = idict.get('lyrics')\n",
    "    total_lyrics_others.append(song_lyric)\n",
    "for i in range(0,len(lil_songs)):\n",
    "    idict = lil_songs[i]\n",
    "    song_lyric = idict.get('lyrics')\n",
    "    total_lyrics_others.append(song_lyric)\n",
    "for i in range(0,len(wiz_songs)):\n",
    "    idict = wiz_songs[i]\n",
    "    song_lyric = idict.get('lyrics')\n",
    "    total_lyrics_others.append(song_lyric)\n",
    "for i in range(0,len(big_songs)):\n",
    "    idict = big_songs[i]\n",
    "    song_lyric = idict.get('lyrics')\n",
    "    total_lyrics_others.append(song_lyric)\n",
    "for i in range(0,len(dre_songs)):\n",
    "    idict = dre_songs[i]\n",
    "    song_lyric = idict.get('lyrics')\n",
    "    total_lyrics_others.append(song_lyric)\n",
    "for i in range(0,len(cent_songs)):\n",
    "    idict = cent_songs[i]\n",
    "    song_lyric = idict.get('lyrics')\n",
    "    total_lyrics_others.append(song_lyric)\n",
    "for i in range(0,len(snoop_songs)):\n",
    "    idict = snoop_songs[i]\n",
    "    song_lyric = idict.get('lyrics')\n",
    "    total_lyrics_others.append(song_lyric)\n",
    "for i in range(0,len(logic_songs)):\n",
    "    idict = logic_songs[i]\n",
    "    song_lyric = idict.get('lyrics')\n",
    "    total_lyrics_others.append(song_lyric)\n",
    "for i in range(0,len(machine_songs)):\n",
    "    idict = machine_songs[i]\n",
    "    song_lyric = idict.get('lyrics')\n",
    "    total_lyrics_others.append(song_lyric)\n",
    "for i in range(0,len(ice_songs)):\n",
    "    idict = ice_songs[i]\n",
    "    song_lyric = idict.get('lyrics')\n",
    "    total_lyrics_others.append(song_lyric)\n",
    "for i in range(0,len(chance_songs)):\n",
    "    idict = chance_songs[i]\n",
    "    song_lyric = idict.get('lyrics')\n",
    "    total_lyrics_others.append(song_lyric)\n",
    "for i in range(0,len(eazy_songs)):\n",
    "    idict = eazy_songs[i]\n",
    "    song_lyric = idict.get('lyrics')\n",
    "    total_lyrics_others.append(song_lyric)    \n",
    "for i in range(0,len(out_songs)):\n",
    "    idict = out_songs[i]\n",
    "    song_lyric = idict.get('lyrics')\n",
    "    total_lyrics_others.append(song_lyric) \n",
    "for i in range(0,len(tech_songs)):\n",
    "    idict = tech_songs[i]\n",
    "    song_lyric = idict.get('lyrics')\n",
    "    total_lyrics_others.append(song_lyric)    \n",
    "for i in range(0,len(asap_songs)):\n",
    "    idict = asap_songs[i]\n",
    "    song_lyric = idict.get('lyrics')\n",
    "    total_lyrics_others.append(song_lyric)    \n",
    "print(len(total_lyrics_others)) #number of songs of other artists"
   ]
  },
  {
   "cell_type": "code",
   "execution_count": 269,
   "metadata": {},
   "outputs": [
    {
     "data": {
      "text/plain": [
       "3418"
      ]
     },
     "execution_count": 269,
     "metadata": {},
     "output_type": "execute_result"
    }
   ],
   "source": [
    "import pandas as pd\n",
    "df_others = pd.DataFrame(total_lyrics_others) \n",
    "df_others = df_others.rename(columns={0: \"lyrics\"})\n",
    "df_others = df_others[df_others['lyrics'].notna()]\n",
    "len(df_others) #number of songs of other artists without NA"
   ]
  },
  {
   "cell_type": "code",
   "execution_count": 270,
   "metadata": {},
   "outputs": [
    {
     "data": {
      "text/html": [
       "<div>\n",
       "<style scoped>\n",
       "    .dataframe tbody tr th:only-of-type {\n",
       "        vertical-align: middle;\n",
       "    }\n",
       "\n",
       "    .dataframe tbody tr th {\n",
       "        vertical-align: top;\n",
       "    }\n",
       "\n",
       "    .dataframe thead th {\n",
       "        text-align: right;\n",
       "    }\n",
       "</style>\n",
       "<table border=\"1\" class=\"dataframe\">\n",
       "  <thead>\n",
       "    <tr style=\"text-align: right;\">\n",
       "      <th></th>\n",
       "      <th>lyrics</th>\n",
       "    </tr>\n",
       "  </thead>\n",
       "  <tbody>\n",
       "    <tr>\n",
       "      <th>0</th>\n",
       "      <td>\\nWell, it is a weepin' and a moanin' and a gn...</td>\n",
       "    </tr>\n",
       "    <tr>\n",
       "      <th>1</th>\n",
       "      <td>\\nYou're the only power \\nYou're the only powe...</td>\n",
       "    </tr>\n",
       "    <tr>\n",
       "      <th>2</th>\n",
       "      <td>\\n\\nWe don't want no devils in the house, God ...</td>\n",
       "    </tr>\n",
       "    <tr>\n",
       "      <th>3</th>\n",
       "      <td>\\nI shoot the lights out\\nHide 'til it's brigh...</td>\n",
       "    </tr>\n",
       "    <tr>\n",
       "      <th>4</th>\n",
       "      <td>\\nB-B-B-B-Bound to fall in love\\nBound to fall...</td>\n",
       "    </tr>\n",
       "  </tbody>\n",
       "</table>\n",
       "</div>"
      ],
      "text/plain": [
       "                                              lyrics\n",
       "0  \\nWell, it is a weepin' and a moanin' and a gn...\n",
       "1  \\nYou're the only power \\nYou're the only powe...\n",
       "2  \\n\\nWe don't want no devils in the house, God ...\n",
       "3  \\nI shoot the lights out\\nHide 'til it's brigh...\n",
       "4  \\nB-B-B-B-Bound to fall in love\\nBound to fall..."
      ]
     },
     "execution_count": 270,
     "metadata": {},
     "output_type": "execute_result"
    }
   ],
   "source": [
    "df_others = df_others.replace(to_replace ='[\\(\\[].*?[\\)\\]]', value = '', regex = True)\n",
    "df_others.head() "
   ]
  },
  {
   "cell_type": "code",
   "execution_count": 271,
   "metadata": {},
   "outputs": [],
   "source": [
    "punctuation = ['!','\"','#','$','%','&','(',')','*','+',',','-','/',':',';','<','=','>','?','@','[','\\\\',']',\n",
    " '^','_','`','{','|','}','~']"
   ]
  },
  {
   "cell_type": "markdown",
   "metadata": {},
   "source": [
    "### Lowercase all lyrics in both datasets, change multiple spaces to a single space, remove special characters"
   ]
  },
  {
   "cell_type": "code",
   "execution_count": 272,
   "metadata": {},
   "outputs": [],
   "source": [
    "for i in range(0,len(df)):\n",
    "    stringlyric = df.iloc[i,0]\n",
    "    stringlyric.replace(\"\\n\\n\\n\\n\\n\\n\\n\\n\", \"\\n\")\n",
    "    stringlyric.replace(\"\\n\\n\\n\\n\\n\\n\\n\", \"\\n\")\n",
    "    stringlyric.replace(\"\\n\\n\\n\\n\\n\\n\", \"\\n\")\n",
    "    stringlyric.replace(\"\\n\\n\\n\\n\\n\", \"\\n\")\n",
    "    stringlyric.replace(\"\\n\\n\\n\\n\", \"\\n\")\n",
    "    stringlyric.replace(\"\\n\\n\\n\", \"\\n\")\n",
    "    stringlyric.replace(\"\\n\\n\", \"\\n\")\n",
    "    for x in punctuation: # remove bad_chars  \n",
    "        stringlyric = stringlyric.replace(x, '')\n",
    "    stringlyric = stringlyric.lower()\n",
    "    df.iloc[i,0] = stringlyric"
   ]
  },
  {
   "cell_type": "code",
   "execution_count": 273,
   "metadata": {},
   "outputs": [],
   "source": [
    "for i in range(0,len(df_others)):\n",
    "    stringlyric = df_others.iloc[i,0]\n",
    "    stringlyric.replace(\"\\n\\n\\n\\n\\n\\n\\n\\n\", \"\\n\")\n",
    "    stringlyric.replace(\"\\n\\n\\n\\n\\n\\n\\n\", \"\\n\")\n",
    "    stringlyric.replace(\"\\n\\n\\n\\n\\n\\n\", \"\\n\")\n",
    "    stringlyric.replace(\"\\n\\n\\n\\n\\n\", \"\\n\")\n",
    "    stringlyric.replace(\"\\n\\n\\n\\n\", \"\\n\")\n",
    "    stringlyric.replace(\"\\n\\n\\n\", \"\\n\")\n",
    "    stringlyric.replace(\"\\n\\n\", \"\\n\")\n",
    "    for x in punctuation: # remove bad_chars  \n",
    "        stringlyric = stringlyric.replace(x, '')\n",
    "    stringlyric = stringlyric.lower()\n",
    "    df_others.iloc[i,0] = stringlyric"
   ]
  },
  {
   "cell_type": "code",
   "execution_count": 274,
   "metadata": {},
   "outputs": [
    {
     "data": {
      "text/html": [
       "<div>\n",
       "<style scoped>\n",
       "    .dataframe tbody tr th:only-of-type {\n",
       "        vertical-align: middle;\n",
       "    }\n",
       "\n",
       "    .dataframe tbody tr th {\n",
       "        vertical-align: top;\n",
       "    }\n",
       "\n",
       "    .dataframe thead th {\n",
       "        text-align: right;\n",
       "    }\n",
       "</style>\n",
       "<table border=\"1\" class=\"dataframe\">\n",
       "  <thead>\n",
       "    <tr style=\"text-align: right;\">\n",
       "      <th></th>\n",
       "      <th>lyrics</th>\n",
       "    </tr>\n",
       "  </thead>\n",
       "  <tbody>\n",
       "    <tr>\n",
       "      <th>0</th>\n",
       "      <td>\\nwell it is a weepin' and a moanin' and a gna...</td>\n",
       "    </tr>\n",
       "    <tr>\n",
       "      <th>1</th>\n",
       "      <td>\\nyou're the only power \\nyou're the only powe...</td>\n",
       "    </tr>\n",
       "    <tr>\n",
       "      <th>2</th>\n",
       "      <td>\\n\\nwe don't want no devils in the house god \\...</td>\n",
       "    </tr>\n",
       "    <tr>\n",
       "      <th>3</th>\n",
       "      <td>\\ni shoot the lights out\\nhide 'til it's brigh...</td>\n",
       "    </tr>\n",
       "    <tr>\n",
       "      <th>4</th>\n",
       "      <td>\\nbbbbbound to fall in love\\nbound to fall in ...</td>\n",
       "    </tr>\n",
       "  </tbody>\n",
       "</table>\n",
       "</div>"
      ],
      "text/plain": [
       "                                              lyrics\n",
       "0  \\nwell it is a weepin' and a moanin' and a gna...\n",
       "1  \\nyou're the only power \\nyou're the only powe...\n",
       "2  \\n\\nwe don't want no devils in the house god \\...\n",
       "3  \\ni shoot the lights out\\nhide 'til it's brigh...\n",
       "4  \\nbbbbbound to fall in love\\nbound to fall in ..."
      ]
     },
     "execution_count": 274,
     "metadata": {},
     "output_type": "execute_result"
    }
   ],
   "source": [
    "df_others.head() #dataset of songs of similar artists"
   ]
  },
  {
   "cell_type": "markdown",
   "metadata": {},
   "source": [
    "# Feature Engineering for Eminem-only songs"
   ]
  },
  {
   "cell_type": "code",
   "execution_count": 275,
   "metadata": {},
   "outputs": [],
   "source": [
    "#just for fun\n",
    "\n",
    "df['#characters'] = df.lyrics.str.len() \n",
    "df['#words'] = df.lyrics.str.split().str.len()\n",
    "df['#lines'] = df.lyrics.str.split('\\n').str.len()\n",
    "df['#uniq_words'] = df.lyrics.apply(lambda x: len(set(x.split())))\n",
    "df['lexical_density'] = df['#uniq_words'] / df['#words']"
   ]
  },
  {
   "cell_type": "code",
   "execution_count": 278,
   "metadata": {},
   "outputs": [
    {
     "data": {
      "text/html": [
       "<div>\n",
       "<style scoped>\n",
       "    .dataframe tbody tr th:only-of-type {\n",
       "        vertical-align: middle;\n",
       "    }\n",
       "\n",
       "    .dataframe tbody tr th {\n",
       "        vertical-align: top;\n",
       "    }\n",
       "\n",
       "    .dataframe thead th {\n",
       "        text-align: right;\n",
       "    }\n",
       "</style>\n",
       "<table border=\"1\" class=\"dataframe\">\n",
       "  <thead>\n",
       "    <tr style=\"text-align: right;\">\n",
       "      <th></th>\n",
       "      <th>lyrics</th>\n",
       "      <th>#characters</th>\n",
       "      <th>#words</th>\n",
       "      <th>#lines</th>\n",
       "      <th>#uniq_words</th>\n",
       "      <th>lexical_density</th>\n",
       "    </tr>\n",
       "  </thead>\n",
       "  <tbody>\n",
       "    <tr>\n",
       "      <th>0</th>\n",
       "      <td>look i was gonna go easy on you not to hurt yo...</td>\n",
       "      <td>7796</td>\n",
       "      <td>1535</td>\n",
       "      <td>170</td>\n",
       "      <td>618</td>\n",
       "      <td>0.402606</td>\n",
       "    </tr>\n",
       "    <tr>\n",
       "      <th>1</th>\n",
       "      <td>you sound like a bitch bitch\\nshut the fuck up...</td>\n",
       "      <td>5033</td>\n",
       "      <td>1000</td>\n",
       "      <td>125</td>\n",
       "      <td>455</td>\n",
       "      <td>0.455000</td>\n",
       "    </tr>\n",
       "    <tr>\n",
       "      <th>2</th>\n",
       "      <td>look if you had one shot or one opportunity\\nt...</td>\n",
       "      <td>4029</td>\n",
       "      <td>797</td>\n",
       "      <td>93</td>\n",
       "      <td>319</td>\n",
       "      <td>0.400251</td>\n",
       "    </tr>\n",
       "    <tr>\n",
       "      <th>3</th>\n",
       "      <td>i'm friends with the monster that's under my b...</td>\n",
       "      <td>3695</td>\n",
       "      <td>670</td>\n",
       "      <td>90</td>\n",
       "      <td>264</td>\n",
       "      <td>0.394030</td>\n",
       "    </tr>\n",
       "    <tr>\n",
       "      <th>4</th>\n",
       "      <td>woah joyner joyner yeah yeah yeah\\n\\nyeah i do...</td>\n",
       "      <td>5643</td>\n",
       "      <td>1145</td>\n",
       "      <td>129</td>\n",
       "      <td>462</td>\n",
       "      <td>0.403493</td>\n",
       "    </tr>\n",
       "  </tbody>\n",
       "</table>\n",
       "</div>"
      ],
      "text/plain": [
       "                                              lyrics  #characters  #words  \\\n",
       "0  look i was gonna go easy on you not to hurt yo...         7796    1535   \n",
       "1  you sound like a bitch bitch\\nshut the fuck up...         5033    1000   \n",
       "2  look if you had one shot or one opportunity\\nt...         4029     797   \n",
       "3  i'm friends with the monster that's under my b...         3695     670   \n",
       "4  woah joyner joyner yeah yeah yeah\\n\\nyeah i do...         5643    1145   \n",
       "\n",
       "   #lines  #uniq_words  lexical_density  \n",
       "0     170          618         0.402606  \n",
       "1     125          455         0.455000  \n",
       "2      93          319         0.400251  \n",
       "3      90          264         0.394030  \n",
       "4     129          462         0.403493  "
      ]
     },
     "execution_count": 278,
     "metadata": {},
     "output_type": "execute_result"
    }
   ],
   "source": [
    "df.head()"
   ]
  },
  {
   "cell_type": "code",
   "execution_count": 279,
   "metadata": {},
   "outputs": [
    {
     "data": {
      "text/plain": [
       "array([[<matplotlib.axes._subplots.AxesSubplot object at 0x1a2950bc50>,\n",
       "        <matplotlib.axes._subplots.AxesSubplot object at 0x1a2da6bbe0>,\n",
       "        <matplotlib.axes._subplots.AxesSubplot object at 0x1a28c351d0>],\n",
       "       [<matplotlib.axes._subplots.AxesSubplot object at 0x1a2eea2e48>,\n",
       "        <matplotlib.axes._subplots.AxesSubplot object at 0x1a28c383c8>,\n",
       "        <matplotlib.axes._subplots.AxesSubplot object at 0x1a2b487b38>]],\n",
       "      dtype=object)"
      ]
     },
     "execution_count": 279,
     "metadata": {},
     "output_type": "execute_result"
    },
    {
     "data": {
      "image/png": "[encoded data removed]",
      "text/plain": [
       "<Figure size 1080x576 with 6 Axes>"
      ]
     },
     "metadata": {
      "needs_background": "light"
     },
     "output_type": "display_data"
    }
   ],
   "source": [
    "#distributions\n",
    "df.hist(sharey=True, layout=(2, 3), figsize=(15, 8))"
   ]
  },
  {
   "cell_type": "code",
   "execution_count": 280,
   "metadata": {},
   "outputs": [
    {
     "data": {
      "text/plain": [
       "<matplotlib.axes._subplots.AxesSubplot at 0x1a2b498eb8>"
      ]
     },
     "execution_count": 280,
     "metadata": {},
     "output_type": "execute_result"
    },
    {
     "data": {
      "image/png": "[encoded data removed]",
      "text/plain": [
       "<Figure size 864x216 with 1 Axes>"
      ]
     },
     "metadata": {
      "needs_background": "light"
     },
     "output_type": "display_data"
    }
   ],
   "source": [
    "# Word length distribution\n",
    "pd.Series(len(x) for x in ' '.join(df.lyrics).split()).value_counts().sort_index().plot(kind='bar', figsize=(12, 3))"
   ]
  },
  {
   "cell_type": "markdown",
   "metadata": {},
   "source": [
    "Most words are 3-4 characters."
   ]
  },
  {
   "cell_type": "markdown",
   "metadata": {},
   "source": [
    "# Most common words"
   ]
  },
  {
   "cell_type": "code",
   "execution_count": 281,
   "metadata": {},
   "outputs": [
    {
     "data": {
      "text/plain": [
       "<matplotlib.axes._subplots.AxesSubplot at 0x1a2c5728d0>"
      ]
     },
     "execution_count": 281,
     "metadata": {},
     "output_type": "execute_result"
    },
    {
     "data": {
      "image/png": "[encoded data removed]",
      "text/plain": [
       "<Figure size 432x288 with 1 Axes>"
      ]
     },
     "metadata": {
      "needs_background": "light"
     },
     "output_type": "display_data"
    }
   ],
   "source": [
    "# top words\n",
    "pd.Series(' '.join(df.lyrics).lower().split()).value_counts()[:20][::-1].plot(kind='barh')"
   ]
  },
  {
   "cell_type": "code",
   "execution_count": 282,
   "metadata": {},
   "outputs": [
    {
     "data": {
      "text/plain": [
       "<matplotlib.axes._subplots.AxesSubplot at 0x1a2b49b940>"
      ]
     },
     "execution_count": 282,
     "metadata": {},
     "output_type": "execute_result"
    },
    {
     "data": {
      "image/png": "[encoded data removed]",
      "text/plain": [
       "<Figure size 432x288 with 1 Axes>"
      ]
     },
     "metadata": {
      "needs_background": "light"
     },
     "output_type": "display_data"
    }
   ],
   "source": [
    "# top long words\n",
    "pd.Series([w for w in ' '.join(df.lyrics).lower().split() if len(w) > 7]).value_counts()[:20][::-1].plot(kind='barh')"
   ]
  },
  {
   "cell_type": "code",
   "execution_count": 283,
   "metadata": {},
   "outputs": [],
   "source": [
    "def get_ngrams_from_series(series, n=2):\n",
    "    # using nltk.ngrams\n",
    "    lines = ' '.join(series).lower().split('\\n')\n",
    "    lgrams = [ngrams(l.split(), n) for l in lines]\n",
    "    grams = [[' '.join(g) for g in list(lg)] for lg in lgrams]\n",
    "    return [item for sublist in grams for item in sublist]"
   ]
  },
  {
   "cell_type": "code",
   "execution_count": 284,
   "metadata": {},
   "outputs": [
    {
     "data": {
      "text/plain": [
       "<matplotlib.axes._subplots.AxesSubplot at 0x1a2b4b5dd8>"
      ]
     },
     "execution_count": 284,
     "metadata": {},
     "output_type": "execute_result"
    },
    {
     "data": {
      "image/png": "[encoded data removed]",
      "text/plain": [
       "<Figure size 432x288 with 1 Axes>"
      ]
     },
     "metadata": {
      "needs_background": "light"
     },
     "output_type": "display_data"
    }
   ],
   "source": [
    "# Top bigrams\n",
    "pd.Series(get_ngrams_from_series(df.lyrics, 2)).value_counts()[:20][::-1].plot(kind='barh')"
   ]
  },
  {
   "cell_type": "code",
   "execution_count": 285,
   "metadata": {},
   "outputs": [
    {
     "data": {
      "text/plain": [
       "<matplotlib.axes._subplots.AxesSubplot at 0x1a2ed576a0>"
      ]
     },
     "execution_count": 285,
     "metadata": {},
     "output_type": "execute_result"
    },
    {
     "data": {
      "image/png": "[encoded data removed]",
      "text/plain": [
       "<Figure size 432x288 with 1 Axes>"
      ]
     },
     "metadata": {
      "needs_background": "light"
     },
     "output_type": "display_data"
    }
   ],
   "source": [
    "# Top tri-grams\n",
    "pd.Series(get_ngrams_from_series(df.lyrics, 3)).value_counts()[:20][::-1].plot(kind='barh')"
   ]
  },
  {
   "cell_type": "code",
   "execution_count": 286,
   "metadata": {},
   "outputs": [
    {
     "data": {
      "text/plain": [
       "<matplotlib.axes._subplots.AxesSubplot at 0x1a29603b38>"
      ]
     },
     "execution_count": 286,
     "metadata": {},
     "output_type": "execute_result"
    },
    {
     "data": {
      "image/png": "[encoded data removed]",
      "text/plain": [
       "<Figure size 432x288 with 1 Axes>"
      ]
     },
     "metadata": {
      "needs_background": "light"
     },
     "output_type": "display_data"
    }
   ],
   "source": [
    "# Top four-grams\n",
    "pd.Series(get_ngrams_from_series(df.lyrics, 4)).value_counts()[:20][::-1].plot(kind='barh')"
   ]
  },
  {
   "cell_type": "code",
   "execution_count": 287,
   "metadata": {},
   "outputs": [
    {
     "data": {
      "text/plain": [
       "<matplotlib.axes._subplots.AxesSubplot at 0x1a2cc76f28>"
      ]
     },
     "execution_count": 287,
     "metadata": {},
     "output_type": "execute_result"
    },
    {
     "data": {
      "image/png": "[encoded data removed]",
      "text/plain": [
       "<Figure size 432x288 with 1 Axes>"
      ]
     },
     "metadata": {
      "needs_background": "light"
     },
     "output_type": "display_data"
    }
   ],
   "source": [
    "# Top five-grams\n",
    "pd.Series(get_ngrams_from_series(df.lyrics, 5)).value_counts()[:20][::-1].plot(kind='barh')"
   ]
  },
  {
   "cell_type": "markdown",
   "metadata": {},
   "source": [
    "# Choose data to learn ngrams"
   ]
  },
  {
   "cell_type": "code",
   "execution_count": 32,
   "metadata": {},
   "outputs": [
    {
     "name": "stderr",
     "output_type": "stream",
     "text": [
      "[nltk_data] Downloading package punkt to\n",
      "[nltk_data]     /Users/dashadobrego/nltk_data...\n",
      "[nltk_data]   Package punkt is already up-to-date!\n"
     ]
    }
   ],
   "source": [
    "import nltk\n",
    "nltk.download('punkt')\n",
    "from nltk.util import pad_sequence\n",
    "from nltk.util import bigrams\n",
    "from nltk.util import ngrams\n",
    "from nltk.util import everygrams\n",
    "from nltk.lm.preprocessing import pad_both_ends\n",
    "from nltk.lm.preprocessing import flatten\n",
    "from sklearn.model_selection import train_test_split"
   ]
  },
  {
   "cell_type": "code",
   "execution_count": 113,
   "metadata": {},
   "outputs": [],
   "source": [
    "# once again make sure that Eminem dataset is lowercased\n",
    "df1 = df\n",
    "df1['lyrics'] = df1['lyrics'].str.lower()"
   ]
  },
  {
   "cell_type": "code",
   "execution_count": 114,
   "metadata": {},
   "outputs": [],
   "source": [
    "df1['tokenized_sents'] = df1.apply(lambda row: nltk.word_tokenize(row['lyrics']), axis=1)"
   ]
  },
  {
   "cell_type": "code",
   "execution_count": 125,
   "metadata": {},
   "outputs": [
    {
     "data": {
      "text/plain": [
       "3418"
      ]
     },
     "execution_count": 125,
     "metadata": {},
     "output_type": "execute_result"
    }
   ],
   "source": [
    "df_others['tokenized_sents'] = df_others.apply(lambda row: nltk.word_tokenize(row['lyrics']), axis=1)\n",
    "len(df_others)"
   ]
  },
  {
   "cell_type": "code",
   "execution_count": 115,
   "metadata": {},
   "outputs": [],
   "source": [
    "train, test = train_test_split(df1, test_size=0.1, random_state=42)"
   ]
  },
  {
   "cell_type": "code",
   "execution_count": 122,
   "metadata": {},
   "outputs": [
    {
     "data": {
      "text/plain": [
       "3418"
      ]
     },
     "execution_count": 122,
     "metadata": {},
     "output_type": "execute_result"
    }
   ],
   "source": [
    "train_sentences = train['lyrics']\n",
    "test_sentences = test['lyrics']\n",
    "len(df_others_lyrics)"
   ]
  },
  {
   "cell_type": "code",
   "execution_count": 117,
   "metadata": {},
   "outputs": [
    {
     "data": {
      "text/plain": [
       "268"
      ]
     },
     "execution_count": 117,
     "metadata": {},
     "output_type": "execute_result"
    }
   ],
   "source": [
    "train_sentences_list = train_sentences.tolist()\n",
    "len(train_sentences_list)"
   ]
  },
  {
   "cell_type": "code",
   "execution_count": 126,
   "metadata": {},
   "outputs": [],
   "source": [
    "train = train['tokenized_sents']\n",
    "train_others = df_others['tokenized_sents']\n",
    "test = test['tokenized_sents']"
   ]
  },
  {
   "cell_type": "code",
   "execution_count": 127,
   "metadata": {},
   "outputs": [
    {
     "data": {
      "text/plain": [
       "3686"
      ]
     },
     "execution_count": 127,
     "metadata": {},
     "output_type": "execute_result"
    }
   ],
   "source": [
    "# combine training data from Eminem dataset and whole other artists' dataset\n",
    "token_train = train.tolist()\n",
    "token_train_others = train_others.tolist()\n",
    "token_train.extend(token_train_others)\n",
    "len(token_train) #overall songs training"
   ]
  },
  {
   "cell_type": "code",
   "execution_count": 128,
   "metadata": {},
   "outputs": [],
   "source": [
    "tokens_train = []\n",
    "for sublist in token_train:\n",
    "    for token in sublist:\n",
    "        tokens_train.append(token)"
   ]
  },
  {
   "cell_type": "code",
   "execution_count": 129,
   "metadata": {},
   "outputs": [
    {
     "data": {
      "text/plain": [
       "2239030"
      ]
     },
     "execution_count": 129,
     "metadata": {},
     "output_type": "execute_result"
    }
   ],
   "source": [
    "len(tokens_train)"
   ]
  },
  {
   "cell_type": "code",
   "execution_count": 43,
   "metadata": {},
   "outputs": [
    {
     "data": {
      "text/plain": [
       "['they', 'ask', 'me', 'am', 'i', 'okay', 'they', 'ask', 'me', 'if']"
      ]
     },
     "execution_count": 43,
     "metadata": {},
     "output_type": "execute_result"
    }
   ],
   "source": [
    "tokens_te = list(test_sentences.apply(nltk.word_tokenize))\n",
    "tokens_test = []\n",
    "for sublist in tokens_te:\n",
    "    for token in sublist:\n",
    "        tokens_test.append(token)\n",
    "len(tokens_test)"
   ]
  },
  {
   "cell_type": "markdown",
   "metadata": {},
   "source": [
    "# Some of NLTK models fixed by Github to avoid ZeroDivisionError\n",
    "\n",
    "### credits: https://github.com/nltk/nltk/pull/2363/commits/ce74e449dc9526e19596b1c4a9c510bbb35812cc"
   ]
  },
  {
   "cell_type": "code",
   "execution_count": 132,
   "metadata": {},
   "outputs": [],
   "source": [
    "from nltk.lm.preprocessing import padded_everygram_pipeline, pad_both_ends"
   ]
  },
  {
   "cell_type": "code",
   "execution_count": 133,
   "metadata": {},
   "outputs": [],
   "source": [
    "from nltk.lm.models import LanguageModel\n",
    "class InterpolatedLanguageModel(LanguageModel):\n",
    "    \"\"\"Logic common to all interpolated language models.\n",
    "    The idea to abstract this comes from Chen & Goodman 1995.\n",
    "    Do not instantiate this class directly!\n",
    "    \"\"\"\n",
    "    def __init__(self, smoothing_cls, order, **kwargs):\n",
    "        assert issubclass(smoothing_cls, Smoothing)\n",
    "        params = kwargs.pop(\"params\", {})\n",
    "        super().__init__(order, **kwargs)\n",
    "        self.estimator = smoothing_cls(self.vocab, self.counts, **params)\n",
    "\n",
    "    def unmasked_score(self, word, context=None):\n",
    "        if not context:\n",
    "                return self.estimator.unigram_score(word)\n",
    "        if not self.counts[context]:\n",
    "#This conversation was marked as resolved by stevenbird  Show conversation\n",
    "             # It can also happen that we have no data for this context.\n",
    "             # In that case we defer to the lower-order ngram.\n",
    "             # This is the same as setting alpha to 0 and gamma to 1.\n",
    "             return self.unmasked_score(word, context[1:])\n",
    "        alpha, gamma = self.estimator.alpha_gamma(word, context)\n",
    "        return alpha + gamma * self.unmasked_score(word, context[1:])"
   ]
  },
  {
   "cell_type": "code",
   "execution_count": 134,
   "metadata": {},
   "outputs": [],
   "source": [
    "def _count_non_zero_vals(dictionary):\n",
    "    return sum(1.0 for c in dictionary.values() if c > 0)"
   ]
  },
  {
   "cell_type": "code",
   "execution_count": 135,
   "metadata": {},
   "outputs": [],
   "source": [
    "from nltk.lm.models import Smoothing\n",
    "class KneserNey(Smoothing):\n",
    "    def __init__(self, vocabulary, counter, discount=0.1, **kwargs):\n",
    "        super(KneserNey, self).__init__(vocabulary, counter, *kwargs)\n",
    "        super().__init__(vocabulary, counter, **kwargs)\n",
    "        self.discount = discount\n",
    "\n",
    "    def unigram_score(self, word):\n",
    "        return 1.0 / len(self.vocab)\n",
    "\n",
    "    def alpha_gamma(self, word, context):\n",
    "        prefix_counts = self.counts[context]\n",
    "        prefix_total_ngrams = prefix_counts.N()\n",
    "        alpha = max(prefix_counts[word] - self.discount, 0.0) / prefix_total_ngrams\n",
    "        gamma = self.discount * _count_non_zero_vals(prefix_counts) / prefix_total_ngrams\n",
    "        return alpha, gamma"
   ]
  },
  {
   "cell_type": "code",
   "execution_count": 136,
   "metadata": {},
   "outputs": [],
   "source": [
    "class KneserNeyInterpolated(InterpolatedLanguageModel):\n",
    "    def __init__(self, order, discount=0.1, **kwargs):\n",
    "        super().__init__(KneserNey, order, params={\"discount\": discount}, **kwargs)"
   ]
  },
  {
   "cell_type": "markdown",
   "metadata": {},
   "source": [
    "# unigrams"
   ]
  },
  {
   "cell_type": "code",
   "execution_count": 191,
   "metadata": {},
   "outputs": [],
   "source": [
    "# Preprocess the tokenized text for 1-grams language modelling\n",
    "n = 1\n",
    "padded_Line1 = [list(pad_both_ends(tokens_train, n))]\n",
    "train_data1, padded_sents1 = padded_everygram_pipeline(n, padded_Line1)"
   ]
  },
  {
   "cell_type": "code",
   "execution_count": 192,
   "metadata": {},
   "outputs": [],
   "source": [
    "model1 = KneserNeyInterpolated(1, discount = 0.99)"
   ]
  },
  {
   "cell_type": "code",
   "execution_count": 193,
   "metadata": {},
   "outputs": [
    {
     "name": "stdout",
     "output_type": "stream",
     "text": [
      "<Vocabulary with cutoff=1 unk_label='<UNK>' and 45543 items>\n"
     ]
    }
   ],
   "source": [
    "model1.fit(train_data1, padded_sents1)\n",
    "print(model1.vocab)"
   ]
  },
  {
   "cell_type": "code",
   "execution_count": 194,
   "metadata": {},
   "outputs": [
    {
     "data": {
      "text/plain": [
       "45543"
      ]
     },
     "execution_count": 194,
     "metadata": {},
     "output_type": "execute_result"
    }
   ],
   "source": [
    "len(model1.vocab)"
   ]
  },
  {
   "cell_type": "code",
   "execution_count": 195,
   "metadata": {},
   "outputs": [
    {
     "name": "stdout",
     "output_type": "stream",
     "text": [
      "<NgramCounter with 1 ngram orders and 2239030 ngrams>\n"
     ]
    }
   ],
   "source": [
    "print(model1.counts)"
   ]
  },
  {
   "cell_type": "code",
   "execution_count": 288,
   "metadata": {},
   "outputs": [
    {
     "data": {
      "text/plain": [
       "4614"
      ]
     },
     "execution_count": 288,
     "metadata": {},
     "output_type": "execute_result"
    }
   ],
   "source": [
    "model1.counts['love'] # i.e. Count('love')"
   ]
  },
  {
   "cell_type": "code",
   "execution_count": 289,
   "metadata": {},
   "outputs": [
    {
     "data": {
      "text/plain": [
       "2.1957271150341434e-05"
      ]
     },
     "execution_count": 289,
     "metadata": {},
     "output_type": "execute_result"
    }
   ],
   "source": [
    "model1.score('love') # P('love')"
   ]
  },
  {
   "cell_type": "code",
   "execution_count": 290,
   "metadata": {},
   "outputs": [
    {
     "data": {
      "text/plain": [
       "2.1957271150341434e-05"
      ]
     },
     "execution_count": 290,
     "metadata": {},
     "output_type": "execute_result"
    }
   ],
   "source": [
    "model1.score('you', 'love'.split())  # P('you'|'love')"
   ]
  },
  {
   "cell_type": "code",
   "execution_count": 291,
   "metadata": {},
   "outputs": [
    {
     "data": {
      "text/plain": [
       "-15.47494170709272"
      ]
     },
     "execution_count": 291,
     "metadata": {},
     "output_type": "execute_result"
    }
   ],
   "source": [
    "model1.logscore(\"nltk package\", \"love you\".split())"
   ]
  },
  {
   "cell_type": "code",
   "execution_count": 200,
   "metadata": {},
   "outputs": [],
   "source": [
    "from nltk import ngrams\n",
    "test_unigrams = ngrams(tokens_test, 1)"
   ]
  },
  {
   "cell_type": "code",
   "execution_count": 201,
   "metadata": {},
   "outputs": [
    {
     "data": {
      "text/plain": [
       "45543.00000018476"
      ]
     },
     "execution_count": 201,
     "metadata": {},
     "output_type": "execute_result"
    }
   ],
   "source": [
    "model1.perplexity(test_unigrams)"
   ]
  },
  {
   "cell_type": "markdown",
   "metadata": {},
   "source": [
    "# bigrams"
   ]
  },
  {
   "cell_type": "code",
   "execution_count": 202,
   "metadata": {},
   "outputs": [],
   "source": [
    "# Preprocess the tokenized text for 2-grams language modelling\n",
    "padded_Line2 = [list(pad_both_ends(tokens_train, n=2))]\n",
    "train_data2, padded_sents2 = padded_everygram_pipeline(2, padded_Line2)"
   ]
  },
  {
   "cell_type": "code",
   "execution_count": 203,
   "metadata": {},
   "outputs": [],
   "source": [
    "model2 = KneserNeyInterpolated(2, discount = 0.99)"
   ]
  },
  {
   "cell_type": "code",
   "execution_count": 204,
   "metadata": {},
   "outputs": [
    {
     "name": "stdout",
     "output_type": "stream",
     "text": [
      "<Vocabulary with cutoff=1 unk_label='<UNK>' and 45545 items>\n"
     ]
    }
   ],
   "source": [
    "model2.fit(train_data2, padded_sents2)\n",
    "print(model2.vocab)"
   ]
  },
  {
   "cell_type": "code",
   "execution_count": 205,
   "metadata": {},
   "outputs": [
    {
     "data": {
      "text/plain": [
       "45545"
      ]
     },
     "execution_count": 205,
     "metadata": {},
     "output_type": "execute_result"
    }
   ],
   "source": [
    "len(model2.vocab)"
   ]
  },
  {
   "cell_type": "code",
   "execution_count": 206,
   "metadata": {},
   "outputs": [
    {
     "name": "stdout",
     "output_type": "stream",
     "text": [
      "<NgramCounter with 2 ngram orders and 4478067 ngrams>\n"
     ]
    }
   ],
   "source": [
    "print(model2.counts)"
   ]
  },
  {
   "cell_type": "code",
   "execution_count": 251,
   "metadata": {},
   "outputs": [
    {
     "data": {
      "text/plain": [
       "4614"
      ]
     },
     "execution_count": 251,
     "metadata": {},
     "output_type": "execute_result"
    }
   ],
   "source": [
    "model2.counts['love'] # i.e. Count('love')"
   ]
  },
  {
   "cell_type": "code",
   "execution_count": 252,
   "metadata": {},
   "outputs": [
    {
     "data": {
      "text/plain": [
       "504"
      ]
     },
     "execution_count": 252,
     "metadata": {},
     "output_type": "execute_result"
    }
   ],
   "source": [
    "model2.counts[['love']]['you'] # i.e. Count('you'|'love')"
   ]
  },
  {
   "cell_type": "code",
   "execution_count": 253,
   "metadata": {},
   "outputs": [
    {
     "data": {
      "text/plain": [
       "2.195630694917115e-05"
      ]
     },
     "execution_count": 253,
     "metadata": {},
     "output_type": "execute_result"
    }
   ],
   "source": [
    "model2.score('love') # P('love')"
   ]
  },
  {
   "cell_type": "code",
   "execution_count": 254,
   "metadata": {},
   "outputs": [
    {
     "data": {
      "text/plain": [
       "0.10902070231344954"
      ]
     },
     "execution_count": 254,
     "metadata": {},
     "output_type": "execute_result"
    }
   ],
   "source": [
    "model2.score('you', 'love'.split())  # P"
   ]
  },
  {
   "cell_type": "code",
   "execution_count": 255,
   "metadata": {},
   "outputs": [
    {
     "data": {
      "text/plain": [
       "1.3597277961672104e-06"
      ]
     },
     "execution_count": 255,
     "metadata": {},
     "output_type": "execute_result"
    }
   ],
   "source": [
    "model2.score('dasha', 'love you'.split())  # P"
   ]
  },
  {
   "cell_type": "code",
   "execution_count": 256,
   "metadata": {},
   "outputs": [
    {
     "data": {
      "text/plain": [
       "-19.488250701984636"
      ]
     },
     "execution_count": 256,
     "metadata": {},
     "output_type": "execute_result"
    }
   ],
   "source": [
    "model2.logscore(\"dasha\", \"love you\".split())"
   ]
  },
  {
   "cell_type": "code",
   "execution_count": 213,
   "metadata": {},
   "outputs": [],
   "source": [
    "test_bigrams = ngrams(tokens_test, 2)"
   ]
  },
  {
   "cell_type": "code",
   "execution_count": 214,
   "metadata": {},
   "outputs": [
    {
     "data": {
      "text/plain": [
       "596.6463954704295"
      ]
     },
     "execution_count": 214,
     "metadata": {},
     "output_type": "execute_result"
    }
   ],
   "source": [
    "model2.perplexity(test_bigrams)"
   ]
  },
  {
   "cell_type": "markdown",
   "metadata": {},
   "source": [
    "# trigrams"
   ]
  },
  {
   "cell_type": "code",
   "execution_count": 215,
   "metadata": {},
   "outputs": [],
   "source": [
    "# Preprocess the tokenized text for 3-grams language modelling\n",
    "n = 3\n",
    "padded_Line3 = [list(pad_both_ends(tokens_train, 3))]\n",
    "train_data3, padded_sents3 = padded_everygram_pipeline(3, padded_Line3)"
   ]
  },
  {
   "cell_type": "code",
   "execution_count": 216,
   "metadata": {},
   "outputs": [],
   "source": [
    "model3 = KneserNeyInterpolated(3, discount = 0.999)"
   ]
  },
  {
   "cell_type": "code",
   "execution_count": 218,
   "metadata": {},
   "outputs": [
    {
     "name": "stdout",
     "output_type": "stream",
     "text": [
      "<Vocabulary with cutoff=1 unk_label='<UNK>' and 45545 items>\n"
     ]
    }
   ],
   "source": [
    "model3.fit(train_data3, padded_sents3)\n",
    "print(model3.vocab)"
   ]
  },
  {
   "cell_type": "code",
   "execution_count": 219,
   "metadata": {},
   "outputs": [
    {
     "data": {
      "text/plain": [
       "45545"
      ]
     },
     "execution_count": 219,
     "metadata": {},
     "output_type": "execute_result"
    }
   ],
   "source": [
    "len(model3.vocab)"
   ]
  },
  {
   "cell_type": "code",
   "execution_count": 220,
   "metadata": {},
   "outputs": [
    {
     "name": "stdout",
     "output_type": "stream",
     "text": [
      "<NgramCounter with 3 ngram orders and 6717111 ngrams>\n"
     ]
    }
   ],
   "source": [
    "print(model3.counts)"
   ]
  },
  {
   "cell_type": "code",
   "execution_count": 246,
   "metadata": {},
   "outputs": [
    {
     "data": {
      "text/plain": [
       "4614"
      ]
     },
     "execution_count": 246,
     "metadata": {},
     "output_type": "execute_result"
    }
   ],
   "source": [
    "model3.counts['love'] # i.e. Count('love')"
   ]
  },
  {
   "cell_type": "code",
   "execution_count": 247,
   "metadata": {},
   "outputs": [
    {
     "data": {
      "text/plain": [
       "504"
      ]
     },
     "execution_count": 247,
     "metadata": {},
     "output_type": "execute_result"
    }
   ],
   "source": [
    "model3.counts[['love']]['you'] # i.e. Count('you'|'love')"
   ]
  },
  {
   "cell_type": "code",
   "execution_count": 248,
   "metadata": {},
   "outputs": [
    {
     "data": {
      "text/plain": [
       "13"
      ]
     },
     "execution_count": 248,
     "metadata": {},
     "output_type": "execute_result"
    }
   ],
   "source": [
    "model3.counts[['love', 'you']]['so']"
   ]
  },
  {
   "cell_type": "code",
   "execution_count": 292,
   "metadata": {},
   "outputs": [
    {
     "data": {
      "text/plain": [
       "2.195630694917115e-05"
      ]
     },
     "execution_count": 292,
     "metadata": {},
     "output_type": "execute_result"
    }
   ],
   "source": [
    "model3.score('love') # P('love')"
   ]
  },
  {
   "cell_type": "code",
   "execution_count": 250,
   "metadata": {},
   "outputs": [
    {
     "data": {
      "text/plain": [
       "0.10901877442692683"
      ]
     },
     "execution_count": 250,
     "metadata": {},
     "output_type": "execute_result"
    }
   ],
   "source": [
    "model3.score('you', 'love'.split())  # P('you'|'love')"
   ]
  },
  {
   "cell_type": "code",
   "execution_count": 293,
   "metadata": {},
   "outputs": [
    {
     "data": {
      "text/plain": [
       "9.679756711328924e-06"
      ]
     },
     "execution_count": 293,
     "metadata": {},
     "output_type": "execute_result"
    }
   ],
   "source": [
    "model3.score('Frederic', 'loves to eat food'.split())"
   ]
  },
  {
   "cell_type": "code",
   "execution_count": 294,
   "metadata": {},
   "outputs": [
    {
     "data": {
      "text/plain": [
       "-16.65659778171791"
      ]
     },
     "execution_count": 294,
     "metadata": {},
     "output_type": "execute_result"
    }
   ],
   "source": [
    "model3.logscore('Fkk', 'loves to eat food'.split())"
   ]
  },
  {
   "cell_type": "code",
   "execution_count": 228,
   "metadata": {},
   "outputs": [],
   "source": [
    "from nltk import ngrams\n",
    "test_trigrams = ngrams(tokens_test, 3)"
   ]
  },
  {
   "cell_type": "code",
   "execution_count": 229,
   "metadata": {},
   "outputs": [
    {
     "data": {
      "text/plain": [
       "591.817545812338"
      ]
     },
     "execution_count": 229,
     "metadata": {},
     "output_type": "execute_result"
    }
   ],
   "source": [
    "model3.perplexity(test_trigrams)"
   ]
  },
  {
   "cell_type": "markdown",
   "metadata": {},
   "source": [
    "# 4-grams"
   ]
  },
  {
   "cell_type": "code",
   "execution_count": 230,
   "metadata": {},
   "outputs": [
    {
     "data": {
      "text/plain": [
       "45545"
      ]
     },
     "execution_count": 230,
     "metadata": {},
     "output_type": "execute_result"
    }
   ],
   "source": [
    "# Preprocess the tokenized text for 3-grams language modelling\n",
    "n = 4\n",
    "padded_Line4 = [list(pad_both_ends(tokens_train, n=4))]\n",
    "train_data4, padded_sents4 = padded_everygram_pipeline(4, padded_Line4)\n",
    "model4 = KneserNeyInterpolated(4, discount = 0.999)\n",
    "model4.fit(train_data4, padded_sents4)\n",
    "len(model4.vocab)"
   ]
  },
  {
   "cell_type": "code",
   "execution_count": 231,
   "metadata": {},
   "outputs": [
    {
     "name": "stdout",
     "output_type": "stream",
     "text": [
      "<NgramCounter with 4 ngram orders and 8956162 ngrams>\n"
     ]
    }
   ],
   "source": [
    "print(model4.counts)"
   ]
  },
  {
   "cell_type": "code",
   "execution_count": 235,
   "metadata": {},
   "outputs": [
    {
     "data": {
      "text/plain": [
       "-16.65659778171791"
      ]
     },
     "execution_count": 235,
     "metadata": {},
     "output_type": "execute_result"
    }
   ],
   "source": [
    "model4.logscore('Frederic', 'loves to eat food'.split())"
   ]
  },
  {
   "cell_type": "code",
   "execution_count": 236,
   "metadata": {},
   "outputs": [],
   "source": [
    "test_4grams = ngrams(tokens_test, 4)"
   ]
  },
  {
   "cell_type": "code",
   "execution_count": 237,
   "metadata": {},
   "outputs": [
    {
     "data": {
      "text/plain": [
       "604.4492250578041"
      ]
     },
     "execution_count": 237,
     "metadata": {},
     "output_type": "execute_result"
    }
   ],
   "source": [
    "model4.perplexity(test_4grams)"
   ]
  },
  {
   "cell_type": "markdown",
   "metadata": {},
   "source": [
    "# 5-grams"
   ]
  },
  {
   "cell_type": "code",
   "execution_count": 238,
   "metadata": {},
   "outputs": [
    {
     "data": {
      "text/plain": [
       "542.8570895161669"
      ]
     },
     "execution_count": 238,
     "metadata": {},
     "output_type": "execute_result"
    }
   ],
   "source": [
    "paddedLine5 = [list(pad_both_ends(tokens_train, n=5))]\n",
    "train5, vocab5 = padded_everygram_pipeline(5, paddedLine5)\n",
    "model5 = KneserNeyInterpolated(5, discount = 0.99) \n",
    "model5.fit(train5, vocab5)\n",
    "test_fivegrams = ngrams(tokens_test, 5)\n",
    "model5.perplexity(test_fivegrams)"
   ]
  },
  {
   "cell_type": "markdown",
   "metadata": {},
   "source": [
    "# 6-grams"
   ]
  },
  {
   "cell_type": "code",
   "execution_count": 239,
   "metadata": {},
   "outputs": [
    {
     "data": {
      "text/plain": [
       "540.7897440909717"
      ]
     },
     "execution_count": 239,
     "metadata": {},
     "output_type": "execute_result"
    }
   ],
   "source": [
    "paddedLine6 = [list(pad_both_ends(tokens_train, n=6))]\n",
    "train6, vocab6 = padded_everygram_pipeline(6, paddedLine6)\n",
    "model6 = KneserNeyInterpolated(6, discount = 0.99) \n",
    "model6.fit(train6, vocab6)\n",
    "test_sixgrams = ngrams(tokens_test, 6)\n",
    "model6.perplexity(test_sixgrams)"
   ]
  },
  {
   "cell_type": "markdown",
   "metadata": {},
   "source": [
    "## Let's compare perplexity of different ngram models"
   ]
  },
  {
   "cell_type": "markdown",
   "metadata": {},
   "source": [
    "1. 1-gram: 45k (useless)\n",
    "2. 2-gram: 596\n",
    "3. 3-gram: 591\n",
    "4. 4-gram: 604\n",
    "5. 5-gram: 542\n",
    "6. 6-gram: 540\n",
    "\n",
    "I will take the lowest, 6-gram, to generate a new rap song.\n",
    "\n",
    "### P.S. What else I tried:\n",
    "- different language models, different smoothing techniques (Lidstone, Laplace)\n",
    "- tuned discount value on Kneser Ney Interpolated model (highest one gave the best perplexity)\n",
    "- first tried on Eminem-only lyrics, but it was not enough data to teach a good model"
   ]
  },
  {
   "cell_type": "markdown",
   "metadata": {},
   "source": [
    "# Generation using N-gram Language Model"
   ]
  },
  {
   "cell_type": "code",
   "execution_count": 240,
   "metadata": {},
   "outputs": [],
   "source": [
    "# this code generates sentences\n",
    "from nltk.tokenize.treebank import TreebankWordDetokenizer\n",
    "\n",
    "detokenize = TreebankWordDetokenizer().detokenize\n",
    "def generate_sent(model, num_words, random_seed): #will generate sentences\n",
    "    content = []\n",
    "    period = '.' # finish the sentences\n",
    "    words = 0\n",
    "    while words < num_words:\n",
    "        for token in model.generate(num_words, random_seed=random_seed):\n",
    "            if token == '<s>':\n",
    "                continue\n",
    "            if token == '</s>':\n",
    "                content.append(period)\n",
    "                break\n",
    "            words += 1\n",
    "            content.append(token)\n",
    "    return detokenize(content)"
   ]
  },
  {
   "cell_type": "code",
   "execution_count": 242,
   "metadata": {},
   "outputs": [],
   "source": [
    "# this code generates song\n",
    "\n",
    "import numpy as np\n",
    "def gen_song(model, lines, length, length_range):\n",
    "    song = []\n",
    "    for _ in range(lines):\n",
    "        sent_len = np.random.randint(*length_range) if length_range else length\n",
    "        i = np.random.randint(1,100)\n",
    "        text = generate_sent(model, num_words=sent_len, random_seed=i)\n",
    "        song.append(text)\n",
    "    return '\\n'.join(song)"
   ]
  },
  {
   "cell_type": "code",
   "execution_count": 244,
   "metadata": {},
   "outputs": [
    {
     "data": {
      "text/plain": [
       "\"dooby hooroobies and your scooby snacks it's like that\\npox i used to not give a damn\\ngegigigi bounce wit me bounce wit me wit me ...\\nwholesale no i am not materialistic i was broke\\npave the way for me to set you free pave\\nbusts ain't no retreat but my arms up no\\nmarkass bitches we keep on comin' while we\\nfun now it's rest in peace after every\\nmiss the old kanye straight from the go\\nb.o.w . with the rattpack crew nigga what everything i\\ngegigigigigi can you bounce wit me bounce wit\\nfalcons if you a trill nigga get your mothafuckin\\ndarrell dawkins flow y'all need to make a breakaway\\nthrought tonight lil' kim gon' have\\nravage the average y'all better hope radio and video keep\\nmartian i'm in wayne mode facts neck wet\\nshrub shoulder one month older sponge mug folder nun rug\\nrotisserie my big tongue make it slippery i give you\\nsnoring all night i can't sleep call\\nshrub shoulder one month older sponge mug folder nun\""
      ]
     },
     "execution_count": 244,
     "metadata": {},
     "output_type": "execute_result"
    }
   ],
   "source": [
    "best_song = gen_song(model6, lines=20, length = 8, length_range=[8, 11])\n",
    "best_song"
   ]
  },
  {
   "cell_type": "code",
   "execution_count": 245,
   "metadata": {},
   "outputs": [
    {
     "data": {
      "text/plain": [
       "[\"dooby hooroobies and your scooby snacks it's like that\",\n",
       " 'pox i used to not give a damn',\n",
       " 'gegigigi bounce wit me bounce wit me wit me ...',\n",
       " 'wholesale no i am not materialistic i was broke',\n",
       " 'pave the way for me to set you free pave',\n",
       " \"busts ain't no retreat but my arms up no\",\n",
       " \"markass bitches we keep on comin' while we\",\n",
       " \"fun now it's rest in peace after every\",\n",
       " 'miss the old kanye straight from the go',\n",
       " 'b.o.w . with the rattpack crew nigga what everything i',\n",
       " 'gegigigigigi can you bounce wit me bounce wit',\n",
       " 'falcons if you a trill nigga get your mothafuckin',\n",
       " \"darrell dawkins flow y'all need to make a breakaway\",\n",
       " \"throught tonight lil' kim gon' have\",\n",
       " \"ravage the average y'all better hope radio and video keep\",\n",
       " \"martian i'm in wayne mode facts neck wet\",\n",
       " 'shrub shoulder one month older sponge mug folder nun rug',\n",
       " 'rotisserie my big tongue make it slippery i give you',\n",
       " \"snoring all night i can't sleep call\",\n",
       " 'shrub shoulder one month older sponge mug folder nun']"
      ]
     },
     "execution_count": 245,
     "metadata": {},
     "output_type": "execute_result"
    }
   ],
   "source": [
    "# new generated song\n",
    "\n",
    "best_song.split(\"\\n\")"
   ]
  },
  {
   "cell_type": "markdown",
   "metadata": {},
   "source": [
    "# LSTM approach"
   ]
  },
  {
   "cell_type": "markdown",
   "metadata": {},
   "source": [
    "credits: https://www.kaggle.com/paultimothymooney/poetry-generator-rnn-markov"
   ]
  },
  {
   "cell_type": "code",
   "execution_count": 305,
   "metadata": {},
   "outputs": [
    {
     "data": {
      "text/plain": [
       "1169535"
      ]
     },
     "execution_count": 305,
     "metadata": {},
     "output_type": "execute_result"
    }
   ],
   "source": [
    "eminem_lstm = df['lyrics'].tolist()\n",
    "eminem_lstm = ' '.join(eminem_lstm)\n",
    "len(eminem_lstm)"
   ]
  },
  {
   "cell_type": "code",
   "execution_count": 302,
   "metadata": {},
   "outputs": [],
   "source": [
    "file = open(\"eminem_lstm.txt\", \"w\")\n",
    "file.write(eminem_lstm)\n",
    "file.close() #This close() is important"
   ]
  },
  {
   "cell_type": "code",
   "execution_count": 306,
   "metadata": {},
   "outputs": [
    {
     "name": "stdout",
     "output_type": "stream",
     "text": [
      "look i was gonna go easy on you not to hurt your feelings.\n",
      "but i'm only going to get this one chance. six minutes— six minutes—\n",
      "something's wrong i can feel it. six minutes slim shady you're on\n",
      "just a feeling i've got. like something's about to happen but i don't know what. \n",
      "if that means what i think it means we're in trouble big trouble \n",
      "and if he is as bananas as you say i'm not taking any chances.\n",
      "you are just what the doc ordered.\n",
      "\n",
      "i'm beginnin' to feel like a rap god rap god\n",
      "all my people from the front to the back nod back nod\n",
      "now who thinks their arms are long enough to slap box slap box\n",
      "they said i rap like a robot so call me rapbot\n",
      "\n",
      "but for me to rap like a computer it must be in my genes\n",
      "i got a laptop in my back pocket\n",
      "my pen'll go off when i halfcock it\n",
      "got a fat knot from that rap profit\n",
      "made a livin' and a killin' off it\n",
      "ever since bill clinton was still in office\n",
      "with monica lewinsky feelin' on his nutsack\n",
      "i'm an mc still as honest\n",
      "but as rude and as indecent as all hel\n"
     ]
    }
   ],
   "source": [
    "artist_file = 'eminem_lstm.txt'\n",
    "with open(artist_file) as f: # The with keyword automatically closes the file when you are done\n",
    "    print (f.read(1000))"
   ]
  },
  {
   "cell_type": "code",
   "execution_count": 329,
   "metadata": {},
   "outputs": [],
   "source": [
    "from keras.models import Sequential\n",
    "from keras.layers import Dense, LSTM\n",
    "def create_network(depth):\n",
    "    model = Sequential()\n",
    "    model.add(LSTM(4, input_shape=(2, 2), return_sequences=True))\n",
    "    for i in range(depth):\n",
    "        model.add(LSTM(8, return_sequences=True))\n",
    "    model.add(LSTM(2, return_sequences=True))\n",
    "    model.summary()\n",
    "    model.compile(optimizer='rmsprop',\n",
    "              loss='mse')\n",
    "    if artist + \".rap\" in os.listdir(\".\") and train_mode == False:\n",
    "        model.load_weights(str(artist + \".rap\"))\n",
    "        print(\"loading saved network: \" + str(artist) + \".rap\") \n",
    "    return model"
   ]
  },
  {
   "cell_type": "code",
   "execution_count": 310,
   "metadata": {},
   "outputs": [],
   "source": [
    "def markov(text_file):\n",
    "    ######\n",
    "    read = open(text_file, \"r\", encoding='utf-8').read()\n",
    "    text_model = markovify.NewlineText(read)\n",
    "    return text_model"
   ]
  },
  {
   "cell_type": "code",
   "execution_count": 335,
   "metadata": {},
   "outputs": [],
   "source": [
    "def syllables(line):\n",
    "    count = 0\n",
    "    for word in line.split(\" \"):\n",
    "        try:\n",
    "            vowels = 'aeiouy'\n",
    "            word = word.lower().strip(\"!@#$%^&*()_+-={}[];:,.<>/?\")\n",
    "    #        word = word.lower().strip(\".:;?!\")\n",
    "            if word[0] in vowels:\n",
    "                count +=1\n",
    "            for index in range(1,len(word)):\n",
    "                if word[indx] in vowels and word[index-1] not in vowels:\n",
    "                    count +=1\n",
    "            if word.endswith('e'):\n",
    "                count -= 1\n",
    "            if word.endswith('le'):\n",
    "                count+=1\n",
    "            if count == 0:\n",
    "                count +=1\n",
    "        except:\n",
    "            pass\n",
    "    return count / maxsyllables"
   ]
  },
  {
   "cell_type": "code",
   "execution_count": 312,
   "metadata": {},
   "outputs": [],
   "source": [
    "import pronouncing\n",
    "def rhymeindex(lyrics):\n",
    "    if str(artist) + \".rhymes\" in os.listdir(\".\") and train_mode == False:\n",
    "        print (\"loading saved rhymes from \" + str(artist) + \".rhymes\")\n",
    "        return open(str(artist) + \".rhymes\", \"r\",encoding='utf-8').read().split(\"\\n\")\n",
    "    else:\n",
    "        rhyme_master_list = []\n",
    "        print (\"Building list of rhymes:\")\n",
    "        for i in lyrics:\n",
    "            word = re.sub(r\"\\W+\", '', i.split(\" \")[-1]).lower()\n",
    "            rhymeslist = pronouncing.rhymes(word)\n",
    "            rhymeslistends = []      \n",
    "            for i in rhymeslist:\n",
    "                rhymeslistends.append(i[-2:])\n",
    "            try:\n",
    "                rhymescheme = max(set(rhymeslistends), key=rhymeslistends.count)\n",
    "            except Exception:\n",
    "                rhymescheme = word[-2:]\n",
    "            rhyme_master_list.append(rhymescheme)\n",
    "        rhyme_master_list = list(set(rhyme_master_list))\n",
    "        reverselist = [x[::-1] for x in rhyme_master_list]\n",
    "        reverselist = sorted(reverselist)\n",
    "        rhymelist = [x[::-1] for x in reverselist]\n",
    "        print(\"List of Sorted 2-Letter Rhyme Ends:\")\n",
    "        print(rhymelist)\n",
    "        f = open(str(artist) + \".rhymes\", \"w\", encoding='utf-8')\n",
    "        f.write(\"\\n\".join(rhymelist))\n",
    "        f.close()\n",
    "        return rhymelist"
   ]
  },
  {
   "cell_type": "code",
   "execution_count": 313,
   "metadata": {},
   "outputs": [],
   "source": [
    "def rhyme(line, rhyme_list):\n",
    "    word = re.sub(r\"\\W+\", '', line.split(\" \")[-1]).lower()\n",
    "    rhymeslist = pronouncing.rhymes(word)\n",
    "    rhymeslistends = []\n",
    "    for i in rhymeslist:\n",
    "        rhymeslistends.append(i[-2:])\n",
    "    try:\n",
    "        rhymescheme = max(set(rhymeslistends), key=rhymeslistends.count)\n",
    "    except Exception:\n",
    "        rhymescheme = word[-2:]\n",
    "    try:\n",
    "        float_rhyme = rhyme_list.index(rhymescheme)\n",
    "        float_rhyme = float_rhyme / float(len(rhyme_list))\n",
    "        return float_rhyme\n",
    "    except Exception:\n",
    "        float_rhyme = None\n",
    "        return float_rhyme"
   ]
  },
  {
   "cell_type": "code",
   "execution_count": 314,
   "metadata": {},
   "outputs": [],
   "source": [
    "def split_lyrics_file(text_file):\n",
    "    text = open(text_file, encoding='utf-8').read()\n",
    "    text = text.split(\"\\n\")\n",
    "    while \"\" in text:\n",
    "        text.remove(\"\")\n",
    "    return text"
   ]
  },
  {
   "cell_type": "code",
   "execution_count": 327,
   "metadata": {},
   "outputs": [],
   "source": [
    "def generate_lyrics(text_model, text_file):\n",
    "    bars = []\n",
    "    last_words = []\n",
    "    lyriclength = len(open(text_file,encoding='utf-8').read().split(\"\\n\"))\n",
    "    count = 0\n",
    "    markov_model = markov(text_file)\n",
    "    \n",
    "    while len(bars) < lyriclength / 9 and count < lyriclength * 2:\n",
    "        bar = markov_model.make_sentence(max_overlap_ratio = .49, tries=100)\n",
    "        if type(bar) != type(None) and syllables(bar) < 1:\n",
    "            def get_last_word(bar):\n",
    "                last_word = bar.split(\" \")[-1]\n",
    "                if last_word[-1] in \"!.?,\":\n",
    "                    last_word = last_word[:-1]\n",
    "                return last_word\n",
    "            last_word = get_last_word(bar)\n",
    "            if bar not in bars and last_words.count(last_word) < 3:\n",
    "                bars.append(bar)\n",
    "                last_words.append(last_word)\n",
    "                count += 1\n",
    "    return bars"
   ]
  },
  {
   "cell_type": "code",
   "execution_count": 317,
   "metadata": {},
   "outputs": [],
   "source": [
    "def build_dataset(lines, rhyme_list):\n",
    "    dataset = []\n",
    "    line_list = []\n",
    "    for line in lines:\n",
    "        line_list = [line, syllables(line), rhyme(line, rhyme_list)]\n",
    "        dataset.append(line_list)\n",
    "    x_data = []\n",
    "    y_data = []\n",
    "    for i in range(len(dataset) - 3):\n",
    "        line1 = dataset[i    ][1:]\n",
    "        line2 = dataset[i + 1][1:]\n",
    "        line3 = dataset[i + 2][1:]\n",
    "        line4 = dataset[i + 3][1:]\n",
    "        x = [line1[0], line1[1], line2[0], line2[1]]\n",
    "        x = np.array(x)\n",
    "        x = x.reshape(2,2)\n",
    "        x_data.append(x)\n",
    "        y = [line3[0], line3[1], line4[0], line4[1]]\n",
    "        y = np.array(y)\n",
    "        y = y.reshape(2,2)\n",
    "        y_data.append(y)\n",
    "    x_data = np.array(x_data)\n",
    "    y_data = np.array(y_data)\n",
    "    return x_data, y_data"
   ]
  },
  {
   "cell_type": "code",
   "execution_count": 318,
   "metadata": {},
   "outputs": [],
   "source": [
    "def compose_rap(lines, rhyme_list, lyrics_file, model):\n",
    "    rap_vectors = []\n",
    "    human_lyrics = split_lyrics_file(lyrics_file)\n",
    "    initial_index = random.choice(range(len(human_lyrics) - 1))\n",
    "    initial_lines = human_lyrics[initial_index:initial_index + 2]\n",
    "    starting_input = []\n",
    "    for line in initial_lines:\n",
    "        starting_input.append([syllables(line), rhyme(line, rhyme_list)])\n",
    "    starting_vectors = model.predict(np.array([starting_input]).flatten().reshape(1, 2, 2))\n",
    "    rap_vectors.append(starting_vectors)\n",
    "    for i in range(100):\n",
    "        rap_vectors.append(model.predict(np.array([rap_vectors[-1]]).flatten().reshape(1, 2, 2)))\n",
    "    return rap_vectors"
   ]
  },
  {
   "cell_type": "code",
   "execution_count": 319,
   "metadata": {},
   "outputs": [],
   "source": [
    "def vectors_into_song(vectors, generated_lyrics, rhyme_list):\n",
    "    print (\"\\n\\n\")\t\n",
    "    print (\"Writing verse:\")\n",
    "    print (\"\\n\\n\")\n",
    "    def last_word_compare(rap, line2):\n",
    "        penalty = 0 \n",
    "        for line1 in rap:\n",
    "            word1 = line1.split(\" \")[-1]\n",
    "            word2 = line2.split(\" \")[-1]\n",
    "            while word1[-1] in \"?!,. \":\n",
    "                word1 = word1[:-1]\n",
    "            while word2[-1] in \"?!,. \":\n",
    "                word2 = word2[:-1]\n",
    "            if word1 == word2:\n",
    "                penalty += 0.2\n",
    "        return penalty\n",
    "    def calculate_score(vector_half, syllables, rhyme, penalty):\n",
    "        desired_syllables = vector_half[0]\n",
    "        desired_rhyme = vector_half[1]\n",
    "        desired_syllables = desired_syllables * maxsyllables\n",
    "        desired_rhyme = desired_rhyme * len(rhyme_list)\n",
    "        score = 1.0 - abs(float(desired_syllables) - float(syllables)) + abs(float(desired_rhyme) - float(rhyme)) - penalty\n",
    "        return score\n",
    "    dataset = []\n",
    "    for line in generated_lyrics:\n",
    "        line_list = [line, syllables(line), rhyme(line, rhyme_list)]\n",
    "        dataset.append(line_list)\n",
    "    rap = []\n",
    "    vector_halves = []\n",
    "    for vector in vectors:\n",
    "        vector_halves.append(list(vector[0][0])) \n",
    "        vector_halves.append(list(vector[0][1]))\n",
    "    for vector in vector_halves:\n",
    "        scorelist = []\n",
    "        for item in dataset:\n",
    "            line = item[0]\n",
    "            if len(rap) != 0:\n",
    "                penalty = last_word_compare(rap, line)\n",
    "            else:\n",
    "                penalty = 0\n",
    "            total_score = calculate_score(vector, item[1], item[2], penalty)\n",
    "            score_entry = [line, total_score]\n",
    "            scorelist.append(score_entry)\n",
    "        fixed_score_list = [0]\n",
    "        for score in scorelist:\n",
    "            fixed_score_list.append(float(score[1]))\n",
    "        max_score = max(fixed_score_list)\n",
    "        for item in scorelist:\n",
    "            if item[1] == max_score:\n",
    "                rap.append(item[0])\n",
    "                print (str(item[0]))\n",
    "                for i in dataset:\n",
    "                    if item[0] == i[0]:\n",
    "                        dataset.remove(i)\n",
    "                        break\n",
    "                break     \n",
    "    return rap"
   ]
  },
  {
   "cell_type": "code",
   "execution_count": 320,
   "metadata": {},
   "outputs": [],
   "source": [
    "def train(x_data, y_data, model):\n",
    "    model.fit(np.array(x_data), np.array(y_data), batch_size=2, epochs=5, verbose=1)\n",
    "    model.save_weights(artist + \".rap\")"
   ]
  },
  {
   "cell_type": "code",
   "execution_count": 321,
   "metadata": {},
   "outputs": [],
   "source": [
    "def main(depth, train_mode):\n",
    "    model = create_network(depth)\n",
    "    text_model = markov(text_file)\n",
    "    if train_mode == True:\n",
    "        bars = split_lyrics_file(text_file)\n",
    "    if train_mode == False:\n",
    "        bars = generate_lyrics(text_model, text_file)\n",
    "    rhyme_list = rhymeindex(bars)\n",
    "    if train_mode == True:\n",
    "        x_data, y_data = build_dataset(bars, rhyme_list)\n",
    "        train(x_data, y_data, model)\n",
    "    if train_mode == False:\n",
    "        vectors = compose_rap(bars, rhyme_list, text_file, model)\n",
    "        rap = vectors_into_song(vectors, bars, rhyme_list)\n",
    "        f = open(rap_file, \"w\", encoding='utf-8')\n",
    "        for bar in rap:\n",
    "            f.write(bar)\n",
    "            f.write(\"\\n\")"
   ]
  },
  {
   "cell_type": "code",
   "execution_count": 322,
   "metadata": {},
   "outputs": [],
   "source": [
    "depth = 4 \n",
    "maxsyllables = 8\n",
    "artist = \"artist\"\n",
    "rap_file = \"temporary_poem.txt\""
   ]
  },
  {
   "cell_type": "code",
   "execution_count": 337,
   "metadata": {},
   "outputs": [
    {
     "name": "stdout",
     "output_type": "stream",
     "text": [
      "Model: \"sequential_7\"\n",
      "_________________________________________________________________\n",
      "Layer (type)                 Output Shape              Param #   \n",
      "=================================================================\n",
      "lstm_31 (LSTM)               (None, 2, 4)              112       \n",
      "_________________________________________________________________\n",
      "lstm_32 (LSTM)               (None, 2, 8)              416       \n",
      "_________________________________________________________________\n",
      "lstm_33 (LSTM)               (None, 2, 8)              544       \n",
      "_________________________________________________________________\n",
      "lstm_34 (LSTM)               (None, 2, 8)              544       \n",
      "_________________________________________________________________\n",
      "lstm_35 (LSTM)               (None, 2, 8)              544       \n",
      "_________________________________________________________________\n",
      "lstm_36 (LSTM)               (None, 2, 2)              88        \n",
      "=================================================================\n",
      "Total params: 2,248\n",
      "Trainable params: 2,248\n",
      "Non-trainable params: 0\n",
      "_________________________________________________________________\n",
      "Building list of rhymes:\n",
      "List of Sorted 2-Letter Rhyme Ends:\n",
      "['', \"s'\", 'n.', '10', '20', '30', '40', '50', '60', '70', '01', '11', '51', 'a1', '2', '02', '12', '62', '92', 'p2', '3', '03', '13', '73', 'p3', '44', '64', '15', '25', '35', '6', '56', '96', '17', '47', '97', '08', '18', '38', 'l8', '9', '19', '59', 'a', 'aa', 'ba', 'ca', 'da', 'ea', 'ga', 'ha', 'ia', 'ka', 'la', 'ma', 'na', 'oa', 'ra', 'sa', 'ta', 'ua', 'va', 'wa', 'xa', 'ya', 'za', 'úa', 'ab', 'eb', 'ib', 'lb', 'ob', 'pb', 'rb', 'ub', 'ac', 'ic', 'mc', 'oc', 'tc', '4d', 'ad', 'cd', 'ed', 'id', 'ld', 'nd', 'od', 'rd', 'td', 'ud', 'zd', 'ae', 'be', 'ce', 'de', 'ee', 'fe', 'ge', 'he', 'ie', 'ke', 'le', 'me', 'ne', 'oe', 'pe', 're', 'se', 'te', 'ue', 've', 'ye', 'ze', 'ée', 'af', 'ef', 'ff', 'if', 'lf', 'of', 'rf', 'ag', 'eg', 'gg', 'ig', 'mg', 'ng', 'og', 'pg', 'rg', 'ug', 'wg', 'ah', 'ch', 'eh', 'gh', 'hh', 'oh', 'ph', 'rh', 'sh', 'th', 'uh', 'ai', 'bi', 'ci', 'di', 'fi', 'gi', 'hi', 'ii', 'ki', 'li', 'mi', 'ni', 'pi', 'ri', 'si', 'ti', 'xi', 'zi', 'ak', 'bk', 'ck', 'ek', 'ik', 'kk', 'lk', 'nk', 'ok', 'rk', 'sk', 'al', 'el', 'hl', 'il', 'll', 'ol', 'rl', 'ul', 'wl', 'xl', 'am', 'bm', 'em', 'hm', 'im', 'lm', 'mm', 'om', 'rm', 'sm', 'um', 'ym', 'an', 'en', 'in', 'nn', 'on', 'rn', 'un', 'wn', 'yn', 'ón', 'ao', 'bo', 'co', 'do', 'eo', 'fo', 'go', 'ho', 'io', 'jo', 'ko', 'lo', 'mo', 'no', 'oo', 'po', 'ro', 'so', 'to', 'uo', 'vo', 'wo', 'yo', 'zo', 'ap', 'dp', 'ep', 'ip', 'lp', 'mp', 'op', 'pp', 'rp', 'sp', 'up', 'ar', 'cr', 'er', 'mr', 'or', 'rr', 'sr', 'ur', \"'s\", '0s', '3s', '8s', 'as', 'bs', 'cs', 'ds', 'es', 'fs', 'gs', 'hs', 'is', 'ks', 'ls', 'ms', 'ns', 'os', 'ps', 'qs', 'rs', 'ss', 'ts', 'us', 'vs', 'ws', 'ys', 'és', 'ós', \"'t\", 'at', 'ct', 'et', 'ft', 'ht', 'it', 'lt', 'nt', 'ot', 'pt', 'rt', 'st', 'tt', 'ut', 'xt', 'au', 'eu', 'lu', 'nu', 'su', 'tu', 'uu', 'iv', 'ov', 'aw', 'ew', 'ow', 'ww', 'ax', 'ex', 'ix', 'mx', 'ox', 'xx', 'yx', 'ay', 'by', 'cy', 'dy', 'ey', 'fy', 'gy', 'hy', 'ky', 'ly', 'my', 'ny', 'oy', 'py', 'ry', 'sy', 'ty', 'vy', 'yy', 'zy', 'az', 'ez', 'gz', 'iz', 'lz', 'nz', 'rz', 'tz', 'yz', 'zz', 'rá', 'cé', 'hé', 'mé']\n",
      "Epoch 1/5\n",
      "26403/26403 [==============================] - 81s 3ms/step - loss: 0.0544\n",
      "Epoch 2/5\n",
      "26403/26403 [==============================] - 79s 3ms/step - loss: 0.0520\n",
      "Epoch 3/5\n",
      "26403/26403 [==============================] - 80s 3ms/step - loss: 0.0520\n",
      "Epoch 4/5\n",
      "26403/26403 [==============================] - 80s 3ms/step - loss: 0.0519\n",
      "Epoch 5/5\n",
      "26403/26403 [==============================] - 80s 3ms/step - loss: 0.0519\n",
      "Model: \"sequential_8\"\n",
      "_________________________________________________________________\n",
      "Layer (type)                 Output Shape              Param #   \n",
      "=================================================================\n",
      "lstm_37 (LSTM)               (None, 2, 4)              112       \n",
      "_________________________________________________________________\n",
      "lstm_38 (LSTM)               (None, 2, 8)              416       \n",
      "_________________________________________________________________\n",
      "lstm_39 (LSTM)               (None, 2, 8)              544       \n",
      "_________________________________________________________________\n",
      "lstm_40 (LSTM)               (None, 2, 8)              544       \n",
      "_________________________________________________________________\n",
      "lstm_41 (LSTM)               (None, 2, 8)              544       \n",
      "_________________________________________________________________\n",
      "lstm_42 (LSTM)               (None, 2, 2)              88        \n",
      "=================================================================\n",
      "Total params: 2,248\n",
      "Trainable params: 2,248\n",
      "Non-trainable params: 0\n",
      "_________________________________________________________________\n",
      "loading saved network: artist.rap\n",
      "loading saved rhymes from artist.rhymes\n",
      "\n",
      "\n",
      "\n",
      "Writing verse:\n",
      "\n",
      "\n",
      "\n",
      "i complain about a hot butt like a postcard word to phife dawg from a k in front of hot 97\n",
      "i light a bong but take a mile in each right is a\n",
      "i'm a sucker all i see myself so i keep dressing like elvis\n",
      "my way i'ma do five years for that next beef i'm cocked locked and block your door with a food festival in northern california\n",
      "and wake up in the position that i trust is me what's up with cocaine so he put the mic illa\n",
      "but if we can make you out of all of a placenta\n",
      "and now it's elevated cause once you call i come back shoot the gift like i’m hollering die santa\n",
      "as you lay me down but you won't see me and marcus allen went over real big in gaya\n",
      "you can't see us on them sedative meds who said he was cool with it i would like an airconditioning knob\n",
      "and jump out the coupe hop out and flip it i hide for five years for that static\n",
      "chump it was cool cause i drink i curse and to your neck off then sew your head\n",
      "wasted youth always on the throne but my buzz only lasts about two minutes ago we was kids then kim i was very deprived\n",
      "i'll fuck anything that may stand in they crib and at least three layers of clothing or be led\n",
      "now where there's thunder i wonder if the emphasis on the side of my anger is based\n",
      "a psychotic rhymer i'm kind of karma you get knocked by the way you move it or succeed\n",
      "so let’s have us a little schoolgirl when she gives me an evil spell i'm evil evil spelled\n",
      "but marshall you are this is thirtyfour bars we ain't come in it's unlocked\n",
      "of authenticity you'd never even had to give you this is easily followed\n",
      "and i am recording them thats why your ass when you get socked and pushed\n",
      "i'm not asking it's a broke day but i'm not afraid i'm not married\n",
      "backfired mom sent me to just take matters into my own mama just to be a wife beater with a brand new car you in every lyric spitted\n",
      "why does it end phases that i could relax but i'd make the shit i ain't feel special when i visited\n",
      "all my life we coulda been together—think about it then you gotta go i'm almost certain i was framed\n",
      "with a damn about a hot one like it's just how long it takes when i'm strapped\n",
      "the most wanted individuals in the car you in a world where only some will go emerald\n",
      "and if you woulda been in and suddenly it seems to be a legend\n",
      "bitch you just now finally understand how i just sit there and make it all end\n",
      "i don't mean to be able to stand up please stand up and i'll take a stand\n",
      "unless of course unless you come up with a great dad but a bad husband\n",
      "i can make you satanistic make you fucking slut i hope i offended you good\n",
      "i was irish i could go back in the mud gee for what reason you made it rain upward\n",
      "i'm a grave danger to my brain scream die shady and entertaining from real life this is america\n",
      "how does it got silent then all these other cats ain't metaphorically where i'm gonna make a pizza\n",
      "i just bought her a whore with a 2 you're practically a 10\n",
      "and whether you like i grew up on my left hand desert eagle in my blood\n",
      "so on eggshells i walk and just blurt this berserk and bizarre in florida\n",
      "sold a billion tapes and still make a bitch on this microphone shake your booty is heavy duty like diarrhea\n",
      "a psychotic rhymer i'm kind of balls that it may seem as though you know money nigga\n",
      "and i'll invite sarah palin out to my forehead with a grin here with the 40\n",
      "sometimes i just thought i oughta beat a hot beat a beat and scratch that needs to be mine haha\n",
      "‘cause everything that i trust that everyone is enjoying the music continue to hell and fell hit his back like tabitha\n",
      "they won't budge i'll never hold you through the exit and get with every ounce of my life sentence\n",
      "i've written you five or six the first time since you left i had for your advance\n",
      "this just wasn't as dope was it even ha ain't no one makes a man stand a chance\n",
      "i can't be the only way i care about your life support on ice\n",
      "two rabbits a koala bear and all i wanted to do with us if half of the nuts twice\n",
      "but everyone knows that no one no one gives a fuck i'd shave my garlic clove in a whole race\n",
      "popping pills and a little zantac for antacid if you see i'm just here to save the best mane eli porter stance\n",
      "or benzino—shit i don't give a fuck now i got up i'm afraid\n",
      "stop it you better you better let me whisper sweet nothings into your honda accord with a live grenade\n",
      "or by the meow hope it's not so bad i'm so bananas i appealed to all the weed that i've made\n",
      "anyways for mc's it's a rough week and i can't even stomach me let me up to be\n",
      "i don't even recognize no one on the chin like a steak slut i'll cut ya like to pee\n",
      "line up the lighter and the cucaracha with a bottle let your hair sit up front i'm not the only place that really knows me knows that she\n",
      "rhythmically in sync if you'll still be humble when i be at an afterhours club we've learned that from max b\n",
      "that's when i talk a lot of truth it's all about skrilla\n",
      "i smacked him in the streets so much guilt and y'all don't even bother to scream and holla\n",
      "perspire from the shop to the cleaners i've been dope suspenseful with a half now just send a rapper i'm an enigma\n",
      "i'm as cold as i rip this stage now i'm on edge\n",
      "with elton see if i hurt your selfesteem and you took my bruises took my bruises took my orange\n",
      "so how can i be white i don't know me i'm as cold as a banana\n",
      "and i'm still hungry and i'm thankful for the loop that you stand with a vagina\n",
      "quick ‘cause i'm talking who am i so differently wired am i still don't give a fuck like two seconds flat dre's at my family\n",
      "you probably pack panties in your throat the next i take a mile in novara\n",
      "if they wanna jonbenet me fuck you eat your heart and leave him whenever i feel like it's kinda like...\n",
      "you'll think i ever been out and all that's left of spring break\n",
      "i'm like a puppet irv could shove his whole chest and i met you i puke\n",
      "i'm sorry i've been making my mistakes oh if you want to admit to something i won't crumble\n",
      "you got bent over and your little coochie in your schedule. i'm flexible.\n",
      "i don't feel like i've died and you are just an asshole\n",
      "to the climate i treat it just to see you in a row on a dice roll\n",
      "running and ducking out the whole world on my arm and goes oops and just dangle\n",
      "and get ready for you to be the last package i ever leave earth that would mean i really woulda loved your smile\n",
      "i sent that bitch is one of you in his pasta\n",
      "they won't budge i'll never soften no matter how many times i gotta do to get your butcher knife and a half outta\n",
      "you don't like it was never my object for someone to get back up proof and d12\n",
      "a mad man son of a little too late. but i've been feeling so alone just so you don't know but we’re just in time\n",
      "whatever forever he will be the next thing i need a fag to come and see my baby suddenly i'm not asking it's a crime\n",
      "as i provide just enough to put this in decks and check us out sometime\n",
      "they set you deep in your ass socked in the air that's making me crazy thinking of the doctor's medicine\n",
      "leave me my check and i’ll be damned if i ain't got no ring on my own\n",
      "slip into the picture and it sells and it became my cocaine i just kind of pain\n",
      "c'mon do as i put lives at home in a row on a throne\n",
      "i love pissing you off that hard. ain't no reason to give you an elvis clone\n",
      "perspire from the front to the track is demolished i am noncompliant at home in a bag of tricks for\n",
      "frozen as snow i show no emotion hence i guess some people only live twice and it's cold tryna travel this road together through the door\n",
      "here come and bail you out if you had you in the picture\n",
      "making my mistakes oh if you try to justify the way so i guess it's time it's on for sure\n",
      "what's in your ass he's all i hear the sound of my underwear\n",
      "i screamed ow my appendix feel like i'm not mr. n'sync i'm not about lyrics anymore\n",
      "and tomorrow i'll probably have a roof up on ya “well hello tonya”\n",
      "so before i finally stood up for the life of ya it could be there i go to sleep bitch your soul to sing the blues\n",
      "i barely ducked and that's why they call me superman i'm here to save me not even if there's an excuse\n",
      "so while you're in jeopardation if you ever been through the last song you'll ever lose\n",
      "i never fucked with a fucked up as soon as i run and get some rest the next schmoe who flows\n",
      "but it's just me you front you'll have to grow up with paula abdul at lollapalooza\n",
      "a license to ill out don't you never seen a lot of kmart plaza\n",
      "if you fall i'll get to waving like a dusty cartridge from an era you had crow's feet\n",
      "this shit i would have added don't front you know i don't want to leave me my name is chkachka slim shady yes i'm the light\n",
      "but with a vest to cashis just hope it reaches you in a world so dark a world so cold and began to get down tonight\n",
      "and a rottweiler too and i'm still awake in shambles i'm startin to hallucinate\n",
      "choke a bitch to all my westside bitches throw it to your existence with the monster that's under my bed and set\n",
      "how you trife when i come so you know that it never strikes twice in one week it's complete\n",
      "sittin on stage in a ball of hair bleach and i protect what i do live to regret\n",
      "man i can almost taste it he took his eye out the coupe hop out and shoot\n",
      "this evil is calling i'm already late i got a trust issue\n",
      "i been on some mike tyson on these nuts bitch hang it up while the bullets out of\n",
      "when on eggshells i walk around and screams i remember back when you get no love\n",
      "born with a pack of zigzag's and this song's for all you other slim shadys are just too goddamn sensitive\n",
      "and if you ever see parenthood i know is i could wave\n",
      "i just wanted you to know from whence it came in a row on a rampage too crazy for me to drive\n",
      "this a lame piece of tarp underneath the carpet he stomped it so far america ha ha ha big bro it's for me to underachieve\n",
      "the best to try to fidget with it bag it or that i used to sit on the web\n",
      "ain't even gotta call me man really just a little and dog you'll never see you found your new substitute teacher for the sequel byebye\n",
      "so tight that it ain't just words no more you put out an apb\n",
      "but no one no one who's thrown into the mud through the heat exhale deep and breathe a sigh of relief\n",
      "with the massacre or the ring or the hydrocodone you hide inside your world is torn in half\n",
      "her make sure i want you to relax then dump your ass in a grave and bury myself\n",
      "it's alright it's okay to be just like i'm— ayo before i do that the las vegas shooter killed himself\n",
      "sometimes i feel so alone i mean i've lost my power to see what i done put my penis is the size of dan dierdorf\n",
      "wait a minute i could open up my life would be so extra called her etcetera\n",
      "it'll just make him say what i got it on i'm battery acid\n",
      "x to the cleaners i've been a lover been a gold digger since you thought you had\n",
      "hurry hurry step right up close you're like no i won't go on another episode\n",
      "i'd just laugh and go to wreck shit cameras in all our cell numbers is changed\n",
      "but i've learned it's time to sit at the end of the same time excited\n",
      "on the lawns of the month you couldn't pick amy winehouse out of bed\n",
      "was covered up in a place you can die in this bitch don't fucking lie to me and whitey was beefin see he chilled\n",
      "yo let's put the brakes in traffic so hard i knocked her clothes fell like bishop in juice i could leave this all behind\n",
      "cotton to silk motrin to tylenol 3 and talk shit from me 10 million dollars ain't enough to one day just getting accepted\n",
      "yeah it's a wrap like an e when you need a script\n",
      "i do what i thought i fell i got you open word\n",
      "if i said knock knock let the devil in disguise you're always full of thai weed\n",
      "with dicks so much blood that i used to play around what is it me and for the verse studied his formula learned\n",
      "i think i'm crazy yeah you know what you've done no need for one second\n",
      "lord forgive me for me to er asap for an answer get told we'll never see her—she won't even eat nothing he's fed\n",
      "the bear you don't want no one can you're my world...and i will solemnly stand by every statement i stated\n",
      "neiman marcus bags of vuitton and all the pain inside of an ariana grande concert waiting\n",
      "on this earth i can stop and let dada strap you in a gang\n",
      "but i can handle this of course everything always happens for a place in a second helping\n",
      "and i survived it and had a million bucks in the county carnival then you paying\n",
      "under my bed and up under my jeans either side of a villain for weapon concealing\n",
      "and that's pretty sad when you're beyond belief you probably think that other weak shit what i am agreeing\n",
      "now once upon a time when you get it bitch no one can you're my darling\n",
      "she picked me up and played ping pong with his hands in the club drunk as hell on this earth to make songs all the time being\n",
      "you guys could just turn offandon this ain't love oh this ain't blueprint your idolizing\n",
      "i just never had no other choice that was the worst thing since potholes to ever do is point to the other one with benzino did\n",
      "now everybody wanna run your ass i think and i just feel stupid\n",
      "it is we both die it's silly i’m really a fake id\n",
      "i want in my head already goes to lift yourself up and push him and visit his dog\n",
      "i get off my outfit she knew i knew i'd get him and\n",
      "look at shit through each one of those jokes you offend\n",
      "and them painkillers didn't murder the pain go where you going — i'm leaving heaven fuck you supposed to love you're just being a snot pointynosed bleachblond\n",
      "please stand up please stand up and spit it once refuel reenergize and rewind\n",
      "yo left yo left right left there is too much on my head is twisted like a magic wand\n",
      "and hoodie black should be strapped with more holes than an orphanage with a treacherous four cassette and a friend\n",
      "lose yourself in this world is ever gonna slow up and travel new land\n",
      "i put the brakes in traffic so hard to believe that it's over a fisherman's tackle box and crash sound\n",
      "and you ain't familiar with it he took his eye out the blonde\n",
      "decapitated christina applegate and i don't know why ‘cause i'm a—\n",
      "clean the baby up so much better if you dish it but i can afford\n",
      "now go to sleep bitch die nameless bitch die motherfucker ah ah ah ah ah ah ah\n",
      "or am i the one i want a brother do ya nah\n",
      "rest in peace to mcvay and me and act like some yayo i'm naughty yah\n",
      "i hope you get dissed too bad you’re off the deep end i'm a soldier ladedahdah dahdah dahdah\n",
      "this ain't gonna eat i ain't really understand this new song from luda\n",
      "and use it to torture when she gets in and out of that which\n",
      "and hit the club man you better watch what you what they told you to make you look like the girl in a bunch\n",
      "i never knew i knew i would grow to be a good person though they all say that they're real i know what caused\n",
      "i spew it and i don't wanna hit the stage before they cut her stomach open and lypo'd it heheheh\n",
      "we're on the first word i ever take shit i'll make the fans caught me and this little bitch's earlobe\n",
      "look at shit through each other's shoes at least in my luncha\n",
      "panties so in a trunk by one of my eyelidsaha\n",
      "while she colors her big brother and mother and me were meant to leave you full of nothing but a bad influence\n",
      "so bye for now i'm back to the monster that's under my jeans either side of the shit girl i don't wanna be without a trace\n",
      "bedroom ever again like the cue like i'm plugged up with life and i'm paid\n",
      "it's censorship and it's christmas eve little prick just leave hailie alone what if nobody shows panic mode\n",
      "i love the game illuminati is here in this age fuck a chick that's tailormade\n",
      "and it burns when i was a problem since birth i've been owed\n",
      "or get the privilege to know from whence it came to see what she said the fuck is wrong with you in the land of the load\n",
      "i saw him in his asshole slit my mother's evil seed and do it haha 50 cent hailie jade\n",
      "cause you suck motherfucker you should learn to keep or have you no one can you're my lightning rod when my teacher sucked my weewee\n",
      "but it's the curse of the— it's the moment that i was sick when i came in this galaxy spits reality\n",
      "but still it gave me enough for me to walk away i'm on an lp\n",
      "we started out on top of your own identity\n",
      "i'ma put it on my plate i done said so what the heck was that wing and a knife\n",
      "i love you look so this ain't a rap dude i'm a rolling stone momma developed a crush\n",
      "of another beat on before you that you'll probably go and drown a fish\n",
      "and if you was the man now get out there who feels the way i feel like the car with the advantage\n",
      "some are oval and some real shit though i stay and still no thoughts emerge\n",
      "ball's in my dreams last night when them assholes ran up like you're gonna see no pistol in the same age\n",
      "i'm not a jealous man but think about me like my i'm a kamikaze gonna\n",
      "or i'll show you where the heck is all inside your mouth\n",
      "this is only the beginning now i'm tired of the first time since you left me on a path\n",
      "that's why they call it a thousand times in a mask your blood stains on his back and forth\n",
      "i don't need you no matter how many hugs i get too blunted off of a meanie\n",
      "i go they love the way when you thought you might not wanna rumble like an unshaven barbara\n",
      "admittedly i probably got a hold of my orchestra\n",
      "if you just ain't in her pocket pulls out a pussy but a bad guy\n",
      "white america i am the epitome of a perfecter way to hell i\n",
      "so see if you're gonna need three swats or police officers at least that's what it's like pouring salt in the sky\n",
      "you cannot fill these shoes there is to be true they usually are but see me on the mic i'm godlike\n"
     ]
    }
   ],
   "source": [
    "import os\n",
    "import re, random\n",
    "import markovify\n",
    "maxsyllables = 8\n",
    "text_file = \"eminem_lstm.txt\"\n",
    "train_mode = True        \n",
    "main(depth, train_mode)\n",
    "train_mode = False\n",
    "main(depth, train_mode)"
   ]
  },
  {
   "cell_type": "code",
   "execution_count": null,
   "metadata": {},
   "outputs": [],
   "source": []
  }
 ],
 "metadata": {
  "kernelspec": {
   "display_name": "Python 3",
   "language": "python",
   "name": "python3"
  },
  "language_info": {
   "codemirror_mode": {
    "name": "ipython",
    "version": 3
   },
   "file_extension": ".py",
   "mimetype": "text/x-python",
   "name": "python",
   "nbconvert_exporter": "python",
   "pygments_lexer": "ipython3",
   "version": "3.7.3"
  }
 },
 "nbformat": 4,
 "nbformat_minor": 2
}
